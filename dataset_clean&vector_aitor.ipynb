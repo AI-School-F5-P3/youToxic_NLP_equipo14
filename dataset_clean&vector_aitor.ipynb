{
 "cells": [
  {
   "cell_type": "markdown",
   "metadata": {},
   "source": [
    "# Load and Preview Text Data\n",
    "Import pandas, load the dataframe and examine the 'Text' column characteristics using basic statistics and sample visualization."
   ]
  },
  {
   "cell_type": "code",
   "execution_count": null,
   "metadata": {},
   "outputs": [
    {
     "name": "stdout",
     "output_type": "stream",
     "text": [
      "Note: you may need to restart the kernel to use updated packages.\n",
      "                                                Text  IsToxic\n",
      "0  If only people would just take a step back and...    False\n",
      "1  Law enforcement is not trained to shoot to app...     True\n",
      "2  \\nDont you reckon them 'black lives matter' ba...     True\n",
      "3  There are a very large number of people who do...    False\n",
      "4  The Arab dude is absolutely right, he should h...    False\n",
      "Text       object\n",
      "IsToxic      bool\n",
      "dtype: object\n",
      "==================================================\n",
      "Analisis descriptivo de la variable Text: \n",
      "count              1000\n",
      "unique              997\n",
      "top       run them over\n",
      "freq                  3\n",
      "Name: Text, dtype: object\n",
      "==================================================\n",
      "Muestra aleatoria de la variable Text: \n",
      "428    THANK YOU! right on.black people are going to ...\n",
      "512    When did coming towards the officer is the sam...\n",
      "107    This is a genuine failure of leadership by the...\n",
      "47     This moron is talking about being peaceful?  T...\n",
      "625    They just need to arrest all those protesters ...\n",
      "942    i like how blacks can be all racist against wh...\n",
      "720    I want to toss one of those gernades lol not a...\n",
      "369    It is better for society, for the \"greater goo...\n",
      "330                                Pants up, don't loot!\n",
      "59     Racial profiling and police intimidation? He r...\n",
      "Name: Text, dtype: object\n"
     ]
    }
   ],
   "source": [
    "#Importar librería para cargar el dataset y extraer columnas\n",
    "%pip install -q pandas\n",
    "\n",
    "import pandas as pd\n",
    "\n",
    "# cargar el dataset desde la carpeta Data\n",
    "data = pd.read_csv('Data/youtoxic_english_1000.csv')\n",
    "df = data[['Text', 'IsToxic']]\n",
    "\n",
    "print(df.head())\n",
    "print(df.dtypes)\n",
    "print(\"=\"*50)\n",
    "\n",
    "print(f\"Analisis descriptivo de la variable Text: \\n{df['Text'].describe()}\")\n",
    "print(\"=\"*50)\n",
    "\n",
    "print(f\"Muestra aleatoria de la variable Text: \\n{df['Text'].sample(10)}\")"
   ]
  },
  {
   "cell_type": "code",
   "execution_count": null,
   "metadata": {},
   "outputs": [
    {
     "name": "stdout",
     "output_type": "stream",
     "text": [
      "Valores duplicados en la columna Text: \n",
      "              Text  IsToxic\n",
      "592  RUN THEM OVER     True\n",
      "642  run them over     True\n",
      "657  run them over     True\n",
      "677  run them over     True\n",
      "699  RUN THEM OVER     True\n"
     ]
    }
   ],
   "source": [
    "#Encontrar valores repetidos en la columna Text\n",
    "duplicates = df[df.duplicated(['Text'], keep=False)]\n",
    "print(f\"Valores duplicados en la variable Text: \\n{duplicates}\")"
   ]
  }
 ],
 "metadata": {
  "kernelspec": {
   "display_name": ".venv",
   "language": "python",
   "name": "python3"
  },
  "language_info": {
   "codemirror_mode": {
    "name": "ipython",
    "version": 3
   },
   "file_extension": ".py",
   "mimetype": "text/x-python",
   "name": "python",
   "nbconvert_exporter": "python",
   "pygments_lexer": "ipython3",
   "version": "3.13.0"
  }
 },
 "nbformat": 4,
 "nbformat_minor": 2
}
