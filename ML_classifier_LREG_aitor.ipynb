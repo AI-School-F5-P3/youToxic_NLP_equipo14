{
 "cells": [
  {
   "cell_type": "markdown",
   "metadata": {},
   "source": [
    "# Cargar el dataset Preprocesado"
   ]
  },
  {
   "cell_type": "code",
   "execution_count": 1,
   "metadata": {},
   "outputs": [
    {
     "name": "stdout",
     "output_type": "stream",
     "text": [
      "\n",
      "\u001b[1m[\u001b[0m\u001b[34;49mnotice\u001b[0m\u001b[1;39;49m]\u001b[0m\u001b[39;49m A new release of pip is available: \u001b[0m\u001b[31;49m24.2\u001b[0m\u001b[39;49m -> \u001b[0m\u001b[32;49m24.3.1\u001b[0m\n",
      "\u001b[1m[\u001b[0m\u001b[34;49mnotice\u001b[0m\u001b[1;39;49m]\u001b[0m\u001b[39;49m To update, run: \u001b[0m\u001b[32;49mpip install --upgrade pip\u001b[0m\n",
      "Note: you may need to restart the kernel to use updated packages.\n"
     ]
    },
    {
     "data": {
      "text/html": [
       "<div>\n",
       "<style scoped>\n",
       "    .dataframe tbody tr th:only-of-type {\n",
       "        vertical-align: middle;\n",
       "    }\n",
       "\n",
       "    .dataframe tbody tr th {\n",
       "        vertical-align: top;\n",
       "    }\n",
       "\n",
       "    .dataframe thead th {\n",
       "        text-align: right;\n",
       "    }\n",
       "</style>\n",
       "<table border=\"1\" class=\"dataframe\">\n",
       "  <thead>\n",
       "    <tr style=\"text-align: right;\">\n",
       "      <th></th>\n",
       "      <th>aaannnyything</th>\n",
       "      <th>ability</th>\n",
       "      <th>able</th>\n",
       "      <th>absolutely</th>\n",
       "      <th>absolutely nothing</th>\n",
       "      <th>abuse</th>\n",
       "      <th>according</th>\n",
       "      <th>accountable</th>\n",
       "      <th>accountable actions</th>\n",
       "      <th>accounts</th>\n",
       "      <th>...</th>\n",
       "      <th>youre</th>\n",
       "      <th>youth</th>\n",
       "      <th>youtube</th>\n",
       "      <th>youve</th>\n",
       "      <th>zimmerman</th>\n",
       "      <th>zimmerman case</th>\n",
       "      <th>zimmerman michael</th>\n",
       "      <th>zimmermans</th>\n",
       "      <th>zionist</th>\n",
       "      <th>IsToxic</th>\n",
       "    </tr>\n",
       "  </thead>\n",
       "  <tbody>\n",
       "    <tr>\n",
       "      <th>0</th>\n",
       "      <td>0.0</td>\n",
       "      <td>0.0</td>\n",
       "      <td>0.0</td>\n",
       "      <td>0.000000</td>\n",
       "      <td>0.0</td>\n",
       "      <td>0.0</td>\n",
       "      <td>0.0</td>\n",
       "      <td>0.089395</td>\n",
       "      <td>0.093338</td>\n",
       "      <td>0.0</td>\n",
       "      <td>...</td>\n",
       "      <td>0.067337</td>\n",
       "      <td>0.0</td>\n",
       "      <td>0.0</td>\n",
       "      <td>0.0</td>\n",
       "      <td>0.0</td>\n",
       "      <td>0.0</td>\n",
       "      <td>0.0</td>\n",
       "      <td>0.0</td>\n",
       "      <td>0.0</td>\n",
       "      <td>False</td>\n",
       "    </tr>\n",
       "    <tr>\n",
       "      <th>1</th>\n",
       "      <td>0.0</td>\n",
       "      <td>0.0</td>\n",
       "      <td>0.0</td>\n",
       "      <td>0.000000</td>\n",
       "      <td>0.0</td>\n",
       "      <td>0.0</td>\n",
       "      <td>0.0</td>\n",
       "      <td>0.000000</td>\n",
       "      <td>0.000000</td>\n",
       "      <td>0.0</td>\n",
       "      <td>...</td>\n",
       "      <td>0.000000</td>\n",
       "      <td>0.0</td>\n",
       "      <td>0.0</td>\n",
       "      <td>0.0</td>\n",
       "      <td>0.0</td>\n",
       "      <td>0.0</td>\n",
       "      <td>0.0</td>\n",
       "      <td>0.0</td>\n",
       "      <td>0.0</td>\n",
       "      <td>True</td>\n",
       "    </tr>\n",
       "    <tr>\n",
       "      <th>2</th>\n",
       "      <td>0.0</td>\n",
       "      <td>0.0</td>\n",
       "      <td>0.0</td>\n",
       "      <td>0.000000</td>\n",
       "      <td>0.0</td>\n",
       "      <td>0.0</td>\n",
       "      <td>0.0</td>\n",
       "      <td>0.000000</td>\n",
       "      <td>0.000000</td>\n",
       "      <td>0.0</td>\n",
       "      <td>...</td>\n",
       "      <td>0.000000</td>\n",
       "      <td>0.0</td>\n",
       "      <td>0.0</td>\n",
       "      <td>0.0</td>\n",
       "      <td>0.0</td>\n",
       "      <td>0.0</td>\n",
       "      <td>0.0</td>\n",
       "      <td>0.0</td>\n",
       "      <td>0.0</td>\n",
       "      <td>True</td>\n",
       "    </tr>\n",
       "    <tr>\n",
       "      <th>3</th>\n",
       "      <td>0.0</td>\n",
       "      <td>0.0</td>\n",
       "      <td>0.0</td>\n",
       "      <td>0.000000</td>\n",
       "      <td>0.0</td>\n",
       "      <td>0.0</td>\n",
       "      <td>0.0</td>\n",
       "      <td>0.000000</td>\n",
       "      <td>0.000000</td>\n",
       "      <td>0.0</td>\n",
       "      <td>...</td>\n",
       "      <td>0.000000</td>\n",
       "      <td>0.0</td>\n",
       "      <td>0.0</td>\n",
       "      <td>0.0</td>\n",
       "      <td>0.0</td>\n",
       "      <td>0.0</td>\n",
       "      <td>0.0</td>\n",
       "      <td>0.0</td>\n",
       "      <td>0.0</td>\n",
       "      <td>False</td>\n",
       "    </tr>\n",
       "    <tr>\n",
       "      <th>4</th>\n",
       "      <td>0.0</td>\n",
       "      <td>0.0</td>\n",
       "      <td>0.0</td>\n",
       "      <td>0.185577</td>\n",
       "      <td>0.0</td>\n",
       "      <td>0.0</td>\n",
       "      <td>0.0</td>\n",
       "      <td>0.000000</td>\n",
       "      <td>0.000000</td>\n",
       "      <td>0.0</td>\n",
       "      <td>...</td>\n",
       "      <td>0.000000</td>\n",
       "      <td>0.0</td>\n",
       "      <td>0.0</td>\n",
       "      <td>0.0</td>\n",
       "      <td>0.0</td>\n",
       "      <td>0.0</td>\n",
       "      <td>0.0</td>\n",
       "      <td>0.0</td>\n",
       "      <td>0.0</td>\n",
       "      <td>False</td>\n",
       "    </tr>\n",
       "  </tbody>\n",
       "</table>\n",
       "<p>5 rows × 5001 columns</p>\n",
       "</div>"
      ],
      "text/plain": [
       "   aaannnyything  ability  able  absolutely  absolutely nothing  abuse  \\\n",
       "0            0.0      0.0   0.0    0.000000                 0.0    0.0   \n",
       "1            0.0      0.0   0.0    0.000000                 0.0    0.0   \n",
       "2            0.0      0.0   0.0    0.000000                 0.0    0.0   \n",
       "3            0.0      0.0   0.0    0.000000                 0.0    0.0   \n",
       "4            0.0      0.0   0.0    0.185577                 0.0    0.0   \n",
       "\n",
       "   according  accountable  accountable actions  accounts  ...     youre  \\\n",
       "0        0.0     0.089395             0.093338       0.0  ...  0.067337   \n",
       "1        0.0     0.000000             0.000000       0.0  ...  0.000000   \n",
       "2        0.0     0.000000             0.000000       0.0  ...  0.000000   \n",
       "3        0.0     0.000000             0.000000       0.0  ...  0.000000   \n",
       "4        0.0     0.000000             0.000000       0.0  ...  0.000000   \n",
       "\n",
       "   youth  youtube  youve  zimmerman  zimmerman case  zimmerman michael  \\\n",
       "0    0.0      0.0    0.0        0.0             0.0                0.0   \n",
       "1    0.0      0.0    0.0        0.0             0.0                0.0   \n",
       "2    0.0      0.0    0.0        0.0             0.0                0.0   \n",
       "3    0.0      0.0    0.0        0.0             0.0                0.0   \n",
       "4    0.0      0.0    0.0        0.0             0.0                0.0   \n",
       "\n",
       "   zimmermans  zionist  IsToxic  \n",
       "0         0.0      0.0    False  \n",
       "1         0.0      0.0     True  \n",
       "2         0.0      0.0     True  \n",
       "3         0.0      0.0    False  \n",
       "4         0.0      0.0    False  \n",
       "\n",
       "[5 rows x 5001 columns]"
      ]
     },
     "execution_count": 1,
     "metadata": {},
     "output_type": "execute_result"
    }
   ],
   "source": [
    "%pip install -q pandas\n",
    "import pandas as pd\n",
    "\n",
    "# Cargar el dataset desde la carpeta Data\n",
    "processed_data = pd.read_csv('Data/youtoxic_english_1000_processed.csv')\n",
    "processed_data.head()"
   ]
  },
  {
   "cell_type": "markdown",
   "metadata": {},
   "source": [
    "# Preparar para el modelo de Machine Learning\n",
    "Dividir el dataframe en 'features' y 'labels'.\n",
    "Hacer subdivisiones en conjuntos de prueba y de entrenamiento. Escalar o normalizar las características si es necesario."
   ]
  },
  {
   "cell_type": "code",
   "execution_count": 2,
   "metadata": {},
   "outputs": [
    {
     "data": {
      "text/plain": [
       "((800, 5000), (200, 5000))"
      ]
     },
     "execution_count": 2,
     "metadata": {},
     "output_type": "execute_result"
    }
   ],
   "source": [
    "from sklearn.model_selection import train_test_split\n",
    "from sklearn.preprocessing import StandardScaler\n",
    "\n",
    "# Separar la variable objetivo 'IsToxic' y nombrarla 'labels'\n",
    "labels = processed_data['IsToxic']\n",
    "\n",
    "# Eliminar la columna 'IsToxic' del dataframe y renombrar el dataframe como 'features'\n",
    "features = processed_data.drop(columns=['IsToxic'])\n",
    "\n",
    "# Dividir los datos en conjuntos de entrenamiento y prueba\n",
    "X_train, X_test, y_train, y_test = train_test_split(features, labels, test_size=0.2, random_state=42)\n",
    "\n",
    "# Iniciar StandardScaler\n",
    "scaler = StandardScaler()\n",
    "\n",
    "# Aplicar scaler a los datos de entrenamiento y prueba\n",
    "X_train_scaled = scaler.fit_transform(X_train)\n",
    "X_test_scaled = scaler.transform(X_test)\n",
    "\n",
    "# Mostrar la forma de ambos sets\n",
    "X_train_scaled.shape, X_test_scaled.shape"
   ]
  },
  {
   "cell_type": "markdown",
   "metadata": {},
   "source": [
    "# Primer modelo de ML\n",
    "### Uso de un algoritmo de Regresión Logística"
   ]
  },
  {
   "cell_type": "code",
   "execution_count": 3,
   "metadata": {},
   "outputs": [
    {
     "name": "stdout",
     "output_type": "stream",
     "text": [
      "\n",
      "\u001b[1m[\u001b[0m\u001b[34;49mnotice\u001b[0m\u001b[1;39;49m]\u001b[0m\u001b[39;49m A new release of pip is available: \u001b[0m\u001b[31;49m24.2\u001b[0m\u001b[39;49m -> \u001b[0m\u001b[32;49m24.3.1\u001b[0m\n",
      "\u001b[1m[\u001b[0m\u001b[34;49mnotice\u001b[0m\u001b[1;39;49m]\u001b[0m\u001b[39;49m To update, run: \u001b[0m\u001b[32;49mpip install --upgrade pip\u001b[0m\n",
      "Note: you may need to restart the kernel to use updated packages.\n",
      "Classification Report:\n",
      "              precision    recall  f1-score   support\n",
      "\n",
      "       False       0.62      0.73      0.67        93\n",
      "        True       0.73      0.62      0.67       107\n",
      "\n",
      "    accuracy                           0.67       200\n",
      "   macro avg       0.67      0.67      0.67       200\n",
      "weighted avg       0.68      0.67      0.67       200\n",
      "\n"
     ]
    },
    {
     "data": {
      "image/png": "[encoded data removed]",
      "text/plain": [
       "<Figure size 500x400 with 2 Axes>"
      ]
     },
     "metadata": {},
     "output_type": "display_data"
    },
    {
     "name": "stdout",
     "output_type": "stream",
     "text": [
      "\n",
      "Accuracy en entrenamiento: 0.9962\n",
      "Accuracy en test: 0.6700\n",
      "Diferencia (overfitting): 0.3262\n"
     ]
    }
   ],
   "source": [
    "%pip install -q seaborn matplotlib\n",
    "\n",
    "from sklearn.linear_model import LogisticRegression\n",
    "from sklearn.metrics import classification_report, confusion_matrix\n",
    "import seaborn as sns\n",
    "import matplotlib.pyplot as plt\n",
    "\n",
    "# Crear y entrenar el modelo de regresión logística\n",
    "lr_model = LogisticRegression(random_state=42, max_iter=1000)\n",
    "lr_model.fit(X_train_scaled, y_train)\n",
    "\n",
    "y_pred = lr_model.predict(X_test_scaled)\n",
    "\n",
    "# Imprimir métricas de rendimiento\n",
    "print(\"Classification Report:\")\n",
    "print(classification_report(y_test, y_pred))\n",
    "\n",
    "# Crear y visualizar matriz de confusión\n",
    "plt.figure(figsize=(5, 4))\n",
    "cm = confusion_matrix(y_test, y_pred)\n",
    "sns.heatmap(cm, annot=True, fmt='d', cmap='Reds')\n",
    "plt.title('Matriz de Confusión')\n",
    "plt.ylabel('Valores Reales')\n",
    "plt.xlabel('Predicciones')\n",
    "plt.show()\n",
    "\n",
    "# Calcular y mostrar accuracy en train y test\n",
    "train_score = lr_model.score(X_train_scaled, y_train)\n",
    "test_score = lr_model.score(X_test_scaled, y_test)\n",
    "\n",
    "print(f\"\\nAccuracy en entrenamiento: {train_score:.4f}\")\n",
    "print(f\"Accuracy en test: {test_score:.4f}\")\n",
    "print(f\"Diferencia (overfitting): {abs(train_score - test_score):.4f}\")"
   ]
  },
  {
   "cell_type": "markdown",
   "metadata": {},
   "source": [
    "### Optimización del modelo a través de un estudio elaborado con Optuna"
   ]
  },
  {
   "cell_type": "code",
   "execution_count": null,
   "metadata": {},
   "outputs": [
    {
     "name": "stdout",
     "output_type": "stream",
     "text": [
      "\n",
      "\u001b[1m[\u001b[0m\u001b[34;49mnotice\u001b[0m\u001b[1;39;49m]\u001b[0m\u001b[39;49m A new release of pip is available: \u001b[0m\u001b[31;49m24.2\u001b[0m\u001b[39;49m -> \u001b[0m\u001b[32;49m24.3.1\u001b[0m\n",
      "\u001b[1m[\u001b[0m\u001b[34;49mnotice\u001b[0m\u001b[1;39;49m]\u001b[0m\u001b[39;49m To update, run: \u001b[0m\u001b[32;49mpip install --upgrade pip\u001b[0m\n",
      "Note: you may need to restart the kernel to use updated packages.\n"
     ]
    },
    {
     "name": "stderr",
     "output_type": "stream",
     "text": [
      "/Users/aitor/Desktop/bootcamp IA Factoria F5/proyectos/youToxic_NLP_equipo14/.venv/lib/python3.13/site-packages/tqdm/auto.py:21: TqdmWarning: IProgress not found. Please update jupyter and ipywidgets. See https://ipywidgets.readthedocs.io/en/stable/user_install.html\n",
      "  from .autonotebook import tqdm as notebook_tqdm\n",
      "[I 2024-11-14 13:26:19,285] A new study created in memory with name: no-name-968e3c1d-565a-4e6a-bf35-e30bf42d2706\n",
      "[I 2024-11-14 13:26:19,540] Trial 0 finished with value: 0.5293749999999999 and parameters: {'C': 0.019821175936834745, 'penalty': 'l1', 'solver': 'liblinear', 'max_iter': 702, 'class_weight': None}. Best is trial 0 with value: 0.5293749999999999.\n",
      "[I 2024-11-14 13:26:19,837] Trial 1 finished with value: 0.536875 and parameters: {'C': 0.0015035540811053688, 'penalty': 'l2', 'solver': 'liblinear', 'max_iter': 497, 'class_weight': None}. Best is trial 1 with value: 0.536875.\n",
      "[I 2024-11-14 13:26:20,592] Trial 2 finished with value: 0.5518749999999999 and parameters: {'C': 0.1992844746740132, 'penalty': 'l2', 'solver': 'liblinear', 'max_iter': 288, 'class_weight': None}. Best is trial 2 with value: 0.5518749999999999.\n",
      "[I 2024-11-14 13:26:20,939] Trial 3 finished with value: 0.5443749999999999 and parameters: {'C': 0.0038287267496528573, 'penalty': 'l2', 'solver': 'liblinear', 'max_iter': 1930, 'class_weight': 'balanced'}. Best is trial 2 with value: 0.5518749999999999.\n",
      "[I 2024-11-14 13:26:42,606] Trial 4 finished with value: 0.470625 and parameters: {'C': 0.019623657540967922, 'penalty': 'l1', 'solver': 'saga', 'max_iter': 1041, 'class_weight': None}. Best is trial 2 with value: 0.5518749999999999.\n",
      "/Users/aitor/Desktop/bootcamp IA Factoria F5/proyectos/youToxic_NLP_equipo14/.venv/lib/python3.13/site-packages/sklearn/linear_model/_sag.py:349: ConvergenceWarning: The max_iter was reached which means the coef_ did not converge\n",
      "  warnings.warn(\n",
      "[I 2024-11-14 13:26:46,364] Trial 5 finished with value: 0.5443749999999999 and parameters: {'C': 0.009594583265040802, 'penalty': 'l2', 'solver': 'saga', 'max_iter': 140, 'class_weight': 'balanced'}. Best is trial 2 with value: 0.5518749999999999.\n",
      "[I 2024-11-14 13:26:46,569] Trial 6 finished with value: 0.41937500000000005 and parameters: {'C': 0.0020514266318163014, 'penalty': 'l1', 'solver': 'saga', 'max_iter': 261, 'class_weight': None}. Best is trial 2 with value: 0.5518749999999999.\n",
      "[I 2024-11-14 13:26:47,498] Trial 7 finished with value: 0.5218750000000001 and parameters: {'C': 4.271787000589187, 'penalty': 'l2', 'solver': 'liblinear', 'max_iter': 1185, 'class_weight': 'balanced'}. Best is trial 2 with value: 0.5518749999999999.\n",
      "[I 2024-11-14 13:26:48,417] Trial 8 finished with value: 0.5293750000000002 and parameters: {'C': 1.2673197098819715, 'penalty': 'l2', 'solver': 'liblinear', 'max_iter': 297, 'class_weight': None}. Best is trial 2 with value: 0.5518749999999999.\n",
      "/Users/aitor/Desktop/bootcamp IA Factoria F5/proyectos/youToxic_NLP_equipo14/.venv/lib/python3.13/site-packages/sklearn/linear_model/_sag.py:349: ConvergenceWarning: The max_iter was reached which means the coef_ did not converge\n",
      "  warnings.warn(\n",
      "[I 2024-11-14 13:27:46,819] Trial 9 finished with value: 0.559375 and parameters: {'C': 0.19527162209402216, 'penalty': 'l1', 'solver': 'saga', 'max_iter': 1203, 'class_weight': 'balanced'}. Best is trial 9 with value: 0.559375.\n",
      "/Users/aitor/Desktop/bootcamp IA Factoria F5/proyectos/youToxic_NLP_equipo14/.venv/lib/python3.13/site-packages/sklearn/linear_model/_sag.py:349: ConvergenceWarning: The max_iter was reached which means the coef_ did not converge\n",
      "  warnings.warn(\n",
      "[I 2024-11-14 13:29:04,926] Trial 10 finished with value: 0.566875 and parameters: {'C': 0.1969693213019959, 'penalty': 'l1', 'solver': 'saga', 'max_iter': 1629, 'class_weight': 'balanced'}. Best is trial 10 with value: 0.566875.\n",
      "/Users/aitor/Desktop/bootcamp IA Factoria F5/proyectos/youToxic_NLP_equipo14/.venv/lib/python3.13/site-packages/sklearn/linear_model/_sag.py:349: ConvergenceWarning: The max_iter was reached which means the coef_ did not converge\n",
      "  warnings.warn(\n",
      "[I 2024-11-14 13:30:28,446] Trial 11 finished with value: 0.559375 and parameters: {'C': 0.19139404326232257, 'penalty': 'l1', 'solver': 'saga', 'max_iter': 1741, 'class_weight': 'balanced'}. Best is trial 10 with value: 0.566875.\n",
      "/Users/aitor/Desktop/bootcamp IA Factoria F5/proyectos/youToxic_NLP_equipo14/.venv/lib/python3.13/site-packages/sklearn/linear_model/_sag.py:349: ConvergenceWarning: The max_iter was reached which means the coef_ did not converge\n",
      "  warnings.warn(\n",
      "[I 2024-11-14 13:31:48,158] Trial 12 finished with value: 0.536875 and parameters: {'C': 0.5515941716266516, 'penalty': 'l1', 'solver': 'saga', 'max_iter': 1474, 'class_weight': 'balanced'}. Best is trial 10 with value: 0.566875.\n",
      "[I 2024-11-14 13:32:33,742] Trial 13 finished with value: 0.51875 and parameters: {'C': 0.06810459877155338, 'penalty': 'l1', 'solver': 'saga', 'max_iter': 1441, 'class_weight': 'balanced'}. Best is trial 10 with value: 0.566875.\n",
      "[I 2024-11-14 13:33:18,770] Trial 14 finished with value: 0.5193750000000001 and parameters: {'C': 0.06749449532045236, 'penalty': 'l1', 'solver': 'saga', 'max_iter': 1096, 'class_weight': 'balanced'}. Best is trial 10 with value: 0.566875.\n",
      "/Users/aitor/Desktop/bootcamp IA Factoria F5/proyectos/youToxic_NLP_equipo14/.venv/lib/python3.13/site-packages/sklearn/linear_model/_sag.py:349: ConvergenceWarning: The max_iter was reached which means the coef_ did not converge\n",
      "  warnings.warn(\n",
      "[I 2024-11-14 13:34:46,571] Trial 15 finished with value: 0.5518749999999999 and parameters: {'C': 1.0935004605089207, 'penalty': 'l1', 'solver': 'saga', 'max_iter': 1517, 'class_weight': 'balanced'}. Best is trial 10 with value: 0.566875.\n",
      "/Users/aitor/Desktop/bootcamp IA Factoria F5/proyectos/youToxic_NLP_equipo14/.venv/lib/python3.13/site-packages/sklearn/linear_model/_sag.py:349: ConvergenceWarning: The max_iter was reached which means the coef_ did not converge\n",
      "  warnings.warn(\n",
      "[I 2024-11-14 13:35:43,334] Trial 16 finished with value: 0.559375 and parameters: {'C': 4.68518083852241, 'penalty': 'l1', 'solver': 'saga', 'max_iter': 849, 'class_weight': 'balanced'}. Best is trial 10 with value: 0.566875.\n",
      "/Users/aitor/Desktop/bootcamp IA Factoria F5/proyectos/youToxic_NLP_equipo14/.venv/lib/python3.13/site-packages/sklearn/linear_model/_sag.py:349: ConvergenceWarning: The max_iter was reached which means the coef_ did not converge\n",
      "  warnings.warn(\n",
      "[I 2024-11-14 13:37:08,385] Trial 17 finished with value: 0.5518749999999999 and parameters: {'C': 0.33188716794488454, 'penalty': 'l1', 'solver': 'saga', 'max_iter': 1707, 'class_weight': 'balanced'}. Best is trial 10 with value: 0.566875.\n",
      "[I 2024-11-14 13:37:35,010] Trial 18 finished with value: 0.618125 and parameters: {'C': 0.04408594323627432, 'penalty': 'l1', 'solver': 'saga', 'max_iter': 1269, 'class_weight': 'balanced'}. Best is trial 18 with value: 0.618125.\n",
      "[I 2024-11-14 13:37:56,148] Trial 19 finished with value: 0.64625 and parameters: {'C': 0.030720922354540686, 'penalty': 'l1', 'solver': 'saga', 'max_iter': 1989, 'class_weight': 'balanced'}. Best is trial 19 with value: 0.64625.\n",
      "[I 2024-11-14 13:38:16,832] Trial 20 finished with value: 0.6468750000000001 and parameters: {'C': 0.02772538620287556, 'penalty': 'l1', 'solver': 'saga', 'max_iter': 1859, 'class_weight': 'balanced'}. Best is trial 20 with value: 0.6468750000000001.\n",
      "[I 2024-11-14 13:38:37,622] Trial 21 finished with value: 0.64375 and parameters: {'C': 0.028946549095806656, 'penalty': 'l1', 'solver': 'saga', 'max_iter': 1999, 'class_weight': 'balanced'}. Best is trial 20 with value: 0.6468750000000001.\n",
      "[I 2024-11-14 13:38:37,871] Trial 22 finished with value: 0.489375 and parameters: {'C': 0.007881505708705844, 'penalty': 'l1', 'solver': 'saga', 'max_iter': 1999, 'class_weight': 'balanced'}. Best is trial 20 with value: 0.6468750000000001.\n",
      "[I 2024-11-14 13:38:58,773] Trial 23 finished with value: 0.64375 and parameters: {'C': 0.0289785300991229, 'penalty': 'l1', 'solver': 'saga', 'max_iter': 1835, 'class_weight': 'balanced'}. Best is trial 20 with value: 0.6468750000000001.\n",
      "[I 2024-11-14 13:38:59,092] Trial 24 finished with value: 0.489375 and parameters: {'C': 0.008881090859709334, 'penalty': 'l1', 'solver': 'saga', 'max_iter': 1850, 'class_weight': 'balanced'}. Best is trial 20 with value: 0.6468750000000001.\n",
      "[I 2024-11-14 13:38:59,337] Trial 25 finished with value: 0.489375 and parameters: {'C': 0.004768187487212819, 'penalty': 'l1', 'solver': 'saga', 'max_iter': 1950, 'class_weight': 'balanced'}. Best is trial 20 with value: 0.6468750000000001.\n",
      "[I 2024-11-14 13:39:20,188] Trial 26 finished with value: 0.649375 and parameters: {'C': 0.029248653254930337, 'penalty': 'l1', 'solver': 'saga', 'max_iter': 1608, 'class_weight': 'balanced'}. Best is trial 26 with value: 0.649375.\n",
      "[I 2024-11-14 13:40:24,733] Trial 27 finished with value: 0.50375 and parameters: {'C': 0.09686998063548738, 'penalty': 'l1', 'solver': 'saga', 'max_iter': 1623, 'class_weight': 'balanced'}. Best is trial 26 with value: 0.649375.\n",
      "[I 2024-11-14 13:40:41,023] Trial 28 finished with value: 0.484375 and parameters: {'C': 0.014496249666765618, 'penalty': 'l1', 'solver': 'saga', 'max_iter': 1363, 'class_weight': 'balanced'}. Best is trial 26 with value: 0.649375.\n",
      "[I 2024-11-14 13:40:41,204] Trial 29 finished with value: 0.6275000000000001 and parameters: {'C': 0.030545963594980685, 'penalty': 'l1', 'solver': 'liblinear', 'max_iter': 1800, 'class_weight': None}. Best is trial 26 with value: 0.649375.\n",
      "[I 2024-11-14 13:40:41,450] Trial 30 finished with value: 0.489375 and parameters: {'C': 0.003115291734075502, 'penalty': 'l1', 'solver': 'saga', 'max_iter': 1595, 'class_weight': 'balanced'}. Best is trial 26 with value: 0.649375.\n",
      "[I 2024-11-14 13:41:05,128] Trial 31 finished with value: 0.6437499999999999 and parameters: {'C': 0.0389394924908852, 'penalty': 'l1', 'solver': 'saga', 'max_iter': 1878, 'class_weight': 'balanced'}. Best is trial 26 with value: 0.649375.\n",
      "[I 2024-11-14 13:41:22,724] Trial 32 finished with value: 0.5293749999999999 and parameters: {'C': 0.019547760173813596, 'penalty': 'l1', 'solver': 'saga', 'max_iter': 1759, 'class_weight': 'balanced'}. Best is trial 26 with value: 0.649375.\n",
      "[I 2024-11-14 13:42:08,467] Trial 33 finished with value: 0.5181250000000001 and parameters: {'C': 0.06970180409134469, 'penalty': 'l1', 'solver': 'saga', 'max_iter': 1980, 'class_weight': 'balanced'}. Best is trial 26 with value: 0.649375.\n",
      "[I 2024-11-14 13:42:08,917] Trial 34 finished with value: 0.5443749999999999 and parameters: {'C': 0.012846365716747911, 'penalty': 'l2', 'solver': 'liblinear', 'max_iter': 2000, 'class_weight': None}. Best is trial 26 with value: 0.649375.\n",
      "[I 2024-11-14 13:42:09,127] Trial 35 finished with value: 0.489375 and parameters: {'C': 0.0010278319816503434, 'penalty': 'l1', 'solver': 'saga', 'max_iter': 1696, 'class_weight': 'balanced'}. Best is trial 26 with value: 0.649375.\n",
      "[I 2024-11-14 13:42:09,517] Trial 36 finished with value: 0.559375 and parameters: {'C': 0.006077747420189367, 'penalty': 'l2', 'solver': 'liblinear', 'max_iter': 599, 'class_weight': None}. Best is trial 26 with value: 0.649375.\n",
      "/Users/aitor/Desktop/bootcamp IA Factoria F5/proyectos/youToxic_NLP_equipo14/.venv/lib/python3.13/site-packages/sklearn/linear_model/_sag.py:349: ConvergenceWarning: The max_iter was reached which means the coef_ did not converge\n",
      "  warnings.warn(\n",
      "[I 2024-11-14 13:42:50,230] Trial 37 finished with value: 0.5549999999999999 and parameters: {'C': 0.11825350496606561, 'penalty': 'l1', 'solver': 'saga', 'max_iter': 870, 'class_weight': 'balanced'}. Best is trial 26 with value: 0.649375.\n",
      "[I 2024-11-14 13:43:07,938] Trial 38 finished with value: 0.536875 and parameters: {'C': 0.02286021053419315, 'penalty': 'l2', 'solver': 'saga', 'max_iter': 1885, 'class_weight': 'balanced'}. Best is trial 26 with value: 0.649375.\n",
      "[I 2024-11-14 13:43:08,081] Trial 39 finished with value: 0.50875 and parameters: {'C': 0.01646507207778862, 'penalty': 'l1', 'solver': 'liblinear', 'max_iter': 1550, 'class_weight': None}. Best is trial 26 with value: 0.649375.\n",
      "[I 2024-11-14 13:43:31,723] Trial 40 finished with value: 0.5443749999999999 and parameters: {'C': 0.04734568425075209, 'penalty': 'l2', 'solver': 'saga', 'max_iter': 1796, 'class_weight': 'balanced'}. Best is trial 26 with value: 0.649375.\n",
      "[I 2024-11-14 13:43:52,306] Trial 41 finished with value: 0.645 and parameters: {'C': 0.02851254743655366, 'penalty': 'l1', 'solver': 'saga', 'max_iter': 1884, 'class_weight': 'balanced'}. Best is trial 26 with value: 0.649375.\n",
      "[I 2024-11-14 13:45:02,805] Trial 42 finished with value: 0.503125 and parameters: {'C': 0.10564903887287723, 'penalty': 'l1', 'solver': 'saga', 'max_iter': 1913, 'class_weight': 'balanced'}. Best is trial 26 with value: 0.649375.\n",
      "[I 2024-11-14 13:45:03,131] Trial 43 finished with value: 0.489375 and parameters: {'C': 0.011566273808561605, 'penalty': 'l1', 'solver': 'saga', 'max_iter': 1892, 'class_weight': 'balanced'}. Best is trial 26 with value: 0.649375.\n",
      "[I 2024-11-14 13:45:23,953] Trial 44 finished with value: 0.6481250000000001 and parameters: {'C': 0.029738401617778767, 'penalty': 'l1', 'solver': 'saga', 'max_iter': 1679, 'class_weight': 'balanced'}. Best is trial 26 with value: 0.649375.\n",
      "[I 2024-11-14 13:45:48,524] Trial 45 finished with value: 0.6368749999999999 and parameters: {'C': 0.040798316931153766, 'penalty': 'l1', 'solver': 'saga', 'max_iter': 1671, 'class_weight': 'balanced'}. Best is trial 26 with value: 0.649375.\n",
      "[I 2024-11-14 13:45:48,769] Trial 46 finished with value: 0.489375 and parameters: {'C': 0.00260881080674246, 'penalty': 'l1', 'solver': 'saga', 'max_iter': 1356, 'class_weight': 'balanced'}. Best is trial 26 with value: 0.649375.\n",
      "[I 2024-11-14 13:45:49,007] Trial 47 finished with value: 0.5643750000000001 and parameters: {'C': 0.0626093047211923, 'penalty': 'l1', 'solver': 'liblinear', 'max_iter': 1744, 'class_weight': None}. Best is trial 26 with value: 0.649375.\n",
      "/Users/aitor/Desktop/bootcamp IA Factoria F5/proyectos/youToxic_NLP_equipo14/.venv/lib/python3.13/site-packages/sklearn/linear_model/_sag.py:349: ConvergenceWarning: The max_iter was reached which means the coef_ did not converge\n",
      "  warnings.warn(\n",
      "[I 2024-11-14 13:46:55,564] Trial 48 finished with value: 0.5606249999999999 and parameters: {'C': 0.14445229781582075, 'penalty': 'l1', 'solver': 'saga', 'max_iter': 1429, 'class_weight': 'balanced'}. Best is trial 26 with value: 0.649375.\n",
      "[I 2024-11-14 13:47:05,533] Trial 49 finished with value: 0.5518749999999999 and parameters: {'C': 0.006230931606004927, 'penalty': 'l2', 'solver': 'saga', 'max_iter': 1570, 'class_weight': 'balanced'}. Best is trial 26 with value: 0.649375.\n"
     ]
    },
    {
     "name": "stdout",
     "output_type": "stream",
     "text": [
      "Mejores hiperparámetros encontrados:\n",
      "{'C': 0.029248653254930337, 'penalty': 'l1', 'solver': 'saga', 'max_iter': 1608, 'class_weight': 'balanced'}\n",
      "\n",
      "Accuracy en entrenamiento: 0.7262\n",
      "Accuracy en test: 0.6750\n",
      "Diferencia (overfitting): 0.0512\n"
     ]
    },
    {
     "ename": "ImportError",
     "evalue": "Tried to import 'plotly' but failed. Please make sure that the package is installed correctly to use this feature. Actual error: No module named 'plotly'.",
     "output_type": "error",
     "traceback": [
      "\u001b[0;31m---------------------------------------------------------------------------\u001b[0m",
      "\u001b[0;31mModuleNotFoundError\u001b[0m                       Traceback (most recent call last)",
      "File \u001b[0;32m~/Desktop/bootcamp IA Factoria F5/proyectos/youToxic_NLP_equipo14/.venv/lib/python3.13/site-packages/optuna/visualization/_plotly_imports.py:7\u001b[0m\n\u001b[1;32m      6\u001b[0m \u001b[38;5;28;01mwith\u001b[39;00m try_import() \u001b[38;5;28;01mas\u001b[39;00m _imports:\n\u001b[0;32m----> 7\u001b[0m     \u001b[38;5;28;01mimport\u001b[39;00m \u001b[38;5;21;01mplotly\u001b[39;00m\n\u001b[1;32m      8\u001b[0m     \u001b[38;5;28;01mfrom\u001b[39;00m \u001b[38;5;21;01mplotly\u001b[39;00m \u001b[38;5;28;01mimport\u001b[39;00m __version__ \u001b[38;5;28;01mas\u001b[39;00m plotly_version\n",
      "\u001b[0;31mModuleNotFoundError\u001b[0m: No module named 'plotly'",
      "\nThe above exception was the direct cause of the following exception:\n",
      "\u001b[0;31mImportError\u001b[0m                               Traceback (most recent call last)",
      "Cell \u001b[0;32mIn[6], line 54\u001b[0m\n\u001b[1;32m     51\u001b[0m \u001b[38;5;28mprint\u001b[39m(\u001b[38;5;124mf\u001b[39m\u001b[38;5;124m\"\u001b[39m\u001b[38;5;124mDiferencia (overfitting): \u001b[39m\u001b[38;5;132;01m{\u001b[39;00m\u001b[38;5;28mabs\u001b[39m(train_score\u001b[38;5;250m \u001b[39m\u001b[38;5;241m-\u001b[39m\u001b[38;5;250m \u001b[39mtest_score)\u001b[38;5;132;01m:\u001b[39;00m\u001b[38;5;124m.4f\u001b[39m\u001b[38;5;132;01m}\u001b[39;00m\u001b[38;5;124m\"\u001b[39m)\n\u001b[1;32m     53\u001b[0m \u001b[38;5;66;03m# Visualizar proceso de optimización\u001b[39;00m\n\u001b[0;32m---> 54\u001b[0m \u001b[43moptuna\u001b[49m\u001b[38;5;241;43m.\u001b[39;49m\u001b[43mvisualization\u001b[49m\u001b[38;5;241;43m.\u001b[39;49m\u001b[43mplot_optimization_history\u001b[49m\u001b[43m(\u001b[49m\u001b[43mstudy\u001b[49m\u001b[43m)\u001b[49m\n\u001b[1;32m     55\u001b[0m plt\u001b[38;5;241m.\u001b[39mshow()\n",
      "File \u001b[0;32m~/Desktop/bootcamp IA Factoria F5/proyectos/youToxic_NLP_equipo14/.venv/lib/python3.13/site-packages/optuna/visualization/_optimization_history.py:200\u001b[0m, in \u001b[0;36mplot_optimization_history\u001b[0;34m(study, target, target_name, error_bar)\u001b[0m\n\u001b[1;32m    172\u001b[0m \u001b[38;5;28;01mdef\u001b[39;00m \u001b[38;5;21mplot_optimization_history\u001b[39m(\n\u001b[1;32m    173\u001b[0m     study: Study \u001b[38;5;241m|\u001b[39m Sequence[Study],\n\u001b[1;32m    174\u001b[0m     \u001b[38;5;241m*\u001b[39m,\n\u001b[0;32m   (...)\u001b[0m\n\u001b[1;32m    177\u001b[0m     error_bar: \u001b[38;5;28mbool\u001b[39m \u001b[38;5;241m=\u001b[39m \u001b[38;5;28;01mFalse\u001b[39;00m,\n\u001b[1;32m    178\u001b[0m ) \u001b[38;5;241m-\u001b[39m\u001b[38;5;241m>\u001b[39m \u001b[38;5;124m\"\u001b[39m\u001b[38;5;124mgo.Figure\u001b[39m\u001b[38;5;124m\"\u001b[39m:\n\u001b[1;32m    179\u001b[0m \u001b[38;5;250m    \u001b[39m\u001b[38;5;124;03m\"\"\"Plot optimization history of all trials in a study.\u001b[39;00m\n\u001b[1;32m    180\u001b[0m \n\u001b[1;32m    181\u001b[0m \u001b[38;5;124;03m    Args:\u001b[39;00m\n\u001b[0;32m   (...)\u001b[0m\n\u001b[1;32m    197\u001b[0m \u001b[38;5;124;03m        A :class:`plotly.graph_objects.Figure` object.\u001b[39;00m\n\u001b[1;32m    198\u001b[0m \u001b[38;5;124;03m    \"\"\"\u001b[39;00m\n\u001b[0;32m--> 200\u001b[0m     \u001b[43m_imports\u001b[49m\u001b[38;5;241;43m.\u001b[39;49m\u001b[43mcheck\u001b[49m\u001b[43m(\u001b[49m\u001b[43m)\u001b[49m\n\u001b[1;32m    202\u001b[0m     info_list \u001b[38;5;241m=\u001b[39m _get_optimization_history_info_list(study, target, target_name, error_bar)\n\u001b[1;32m    203\u001b[0m     \u001b[38;5;28;01mreturn\u001b[39;00m _get_optimization_history_plot(info_list, target_name)\n",
      "File \u001b[0;32m~/Desktop/bootcamp IA Factoria F5/proyectos/youToxic_NLP_equipo14/.venv/lib/python3.13/site-packages/optuna/_imports.py:95\u001b[0m, in \u001b[0;36m_DeferredImportExceptionContextManager.check\u001b[0;34m(self)\u001b[0m\n\u001b[1;32m     93\u001b[0m \u001b[38;5;28;01mif\u001b[39;00m \u001b[38;5;28mself\u001b[39m\u001b[38;5;241m.\u001b[39m_deferred \u001b[38;5;129;01mis\u001b[39;00m \u001b[38;5;129;01mnot\u001b[39;00m \u001b[38;5;28;01mNone\u001b[39;00m:\n\u001b[1;32m     94\u001b[0m     exc_value, message \u001b[38;5;241m=\u001b[39m \u001b[38;5;28mself\u001b[39m\u001b[38;5;241m.\u001b[39m_deferred\n\u001b[0;32m---> 95\u001b[0m     \u001b[38;5;28;01mraise\u001b[39;00m \u001b[38;5;167;01mImportError\u001b[39;00m(message) \u001b[38;5;28;01mfrom\u001b[39;00m \u001b[38;5;21;01mexc_value\u001b[39;00m\n",
      "\u001b[0;31mImportError\u001b[0m: Tried to import 'plotly' but failed. Please make sure that the package is installed correctly to use this feature. Actual error: No module named 'plotly'."
     ]
    }
   ],
   "source": [
    "%pip install -q optuna\n",
    "\n",
    "import optuna\n",
    "from sklearn.metrics import accuracy_score\n",
    "\n",
    "def objective(trial):\n",
    "    # Definir espacio de hiperparámetros\n",
    "    params = {\n",
    "        'C': trial.suggest_float('C', 0.001, 10.0, log=True),\n",
    "        'penalty': trial.suggest_categorical('penalty', ['l1', 'l2']),\n",
    "        'solver': trial.suggest_categorical('solver', ['liblinear', 'saga']),\n",
    "        'max_iter': trial.suggest_int('max_iter', 100, 2000),\n",
    "        'class_weight': trial.suggest_categorical('class_weight', ['balanced', None])\n",
    "    }\n",
    "    \n",
    "    # Crear y entrenar modelo\n",
    "    lr_optuna_model = LogisticRegression(**params, random_state=42)\n",
    "    lr_optuna_model.fit(X_train_scaled, y_train)\n",
    "    \n",
    "    # Predecir y calcular accuracy\n",
    "    y_pred = lr_optuna_model.predict(X_test_scaled)\n",
    "    accuracy = accuracy_score(y_test, y_pred)\n",
    "    \n",
    "    # Calcular penalización por overfitting\n",
    "    train_score = lr_optuna_model.score(X_train_scaled, y_train)\n",
    "    test_score = lr_optuna_model.score(X_test_scaled, y_test)\n",
    "    overfitting_penalty = abs(train_score - test_score)\n",
    "    \n",
    "    # Objetivo: maximizar accuracy y minimizar overfitting\n",
    "    return accuracy - (0.5 * overfitting_penalty)\n",
    "\n",
    "# Crear estudio de optimización\n",
    "study = optuna.create_study(direction='maximize')\n",
    "study.optimize(objective, n_trials=50)\n",
    "\n",
    "# Obtener mejores hiperparámetros\n",
    "best_params = study.best_params\n",
    "print(\"Mejores hiperparámetros encontrados:\")\n",
    "print(best_params)\n",
    "\n",
    "# Entrenar modelo final con mejores parámetros\n",
    "final_optuna_model = LogisticRegression(**best_params, random_state=42)\n",
    "final_optuna_model.fit(X_train_scaled, y_train)\n",
    "\n",
    "# Evaluar modelo optimizado\n",
    "train_score = final_optuna_model.score(X_train_scaled, y_train)\n",
    "test_score = final_optuna_model.score(X_test_scaled, y_test)\n",
    "\n",
    "print(f\"\\nAccuracy en entrenamiento: {train_score:.4f}\")\n",
    "print(f\"Accuracy en test: {test_score:.4f}\")\n",
    "print(f\"Diferencia (overfitting): {abs(train_score - test_score):.4f}\")\n",
    "\n",
    "# Visualizar proceso de optimización\n",
    "optuna.visualization.plot_optimization_history(study)\n",
    "plt.show()"
   ]
  },
  {
   "cell_type": "code",
   "execution_count": 4,
   "metadata": {},
   "outputs": [
    {
     "ename": "NameError",
     "evalue": "name 'study' is not defined",
     "output_type": "error",
     "traceback": [
      "\u001b[0;31m---------------------------------------------------------------------------\u001b[0m",
      "\u001b[0;31mNameError\u001b[0m                                 Traceback (most recent call last)",
      "Cell \u001b[0;32mIn[4], line 1\u001b[0m\n\u001b[0;32m----> 1\u001b[0m \u001b[38;5;28mprint\u001b[39m(\u001b[43mstudy\u001b[49m\u001b[38;5;241m.\u001b[39mbest_params)\n",
      "\u001b[0;31mNameError\u001b[0m: name 'study' is not defined"
     ]
    }
   ],
   "source": [
    "print(study.best_params)"
   ]
  },
  {
   "cell_type": "markdown",
   "metadata": {},
   "source": [
    "### Adoptar el modelo optimizado con los mejores hiperparámteros y medir su exactitud y sobreajuste"
   ]
  },
  {
   "cell_type": "code",
   "execution_count": null,
   "metadata": {},
   "outputs": [
    {
     "name": "stdout",
     "output_type": "stream",
     "text": [
      "Optimized Model Classification Report:\n",
      "              precision    recall  f1-score   support\n",
      "\n",
      "       False       0.59      0.97      0.73        93\n",
      "        True       0.94      0.42      0.58       107\n",
      "\n",
      "    accuracy                           0.68       200\n",
      "   macro avg       0.76      0.69      0.66       200\n",
      "weighted avg       0.78      0.68      0.65       200\n",
      "\n"
     ]
    },
    {
     "data": {
      "image/png": "[encoded data removed]",
      "text/plain": [
       "<Figure size 600x500 with 2 Axes>"
      ]
     },
     "metadata": {},
     "output_type": "display_data"
    },
    {
     "name": "stdout",
     "output_type": "stream",
     "text": [
      "\n",
      "Accuracy en entrenamiento: 0.7262\n",
      "Accuracy en test: 0.6750\n",
      "Diferencia (overfitting): 0.0512\n"
     ]
    }
   ],
   "source": [
    "final_optuna_model.fit(X_train_scaled, y_train)\n",
    "\n",
    "y_pred = final_optuna_model.predict(X_test_scaled)\n",
    "\n",
    "# Imprimir métricas de rendimiento\n",
    "print(\"Optimized Model Classification Report:\")\n",
    "print(classification_report(y_test, y_pred))\n",
    "\n",
    "# Crear y visualizar matriz de confusión\n",
    "plt.figure(figsize=(5, 4))\n",
    "cm = confusion_matrix(y_test, y_pred)\n",
    "sns.heatmap(cm, annot=True, fmt='d', cmap='Oranges')\n",
    "plt.title('Matriz de Confusión Modelo Optimizado')\n",
    "plt.ylabel('Valores Reales')\n",
    "plt.xlabel('Predicciones')\n",
    "plt.show()\n",
    "\n",
    "# Calcular y mostrar accuracy en train y test\n",
    "train_score = final_optuna_model.score(X_train_scaled, y_train)\n",
    "test_score = final_optuna_model.score(X_test_scaled, y_test)\n",
    "\n",
    "print(f\"\\nAccuracy en entrenamiento: {train_score:.4f}\")\n",
    "print(f\"Accuracy en test: {test_score:.4f}\")\n",
    "print(f\"Diferencia (overfitting): {abs(train_score - test_score):.4f}\")"
   ]
  },
  {
   "cell_type": "markdown",
   "metadata": {},
   "source": [
    "### Exportar el modelo optimizado usando Pickle"
   ]
  },
  {
   "cell_type": "code",
   "execution_count": null,
   "metadata": {},
   "outputs": [],
   "source": [
    "from sklearn.feature_extraction.text import TfidfVectorizer\n",
    "import pickle\n",
    "\n",
    "# Exportar el modelo\n",
    "with open('toxic_text_classifier.pkl', 'wb') as model_file:\n",
    "    pickle.dump(final_optuna_model, model_file)\n",
    "\n",
    "# Definir y exportar el vectorizador (necesario para preprocesar nuevos datos)\n",
    "tfidf_vectorizer = TfidfVectorizer(ngram_range=(1, 2), max_features=5000)\n",
    "with open('tfidf_vectorizer.pkl', 'wb') as vectorizer_file:\n",
    "    pickle.dump(tfidf_vectorizer, vectorizer_file)"
   ]
  }
 ],
 "metadata": {
  "kernelspec": {
   "display_name": ".venv",
   "language": "python",
   "name": "python3"
  },
  "language_info": {
   "codemirror_mode": {
    "name": "ipython",
    "version": 3
   },
   "file_extension": ".py",
   "mimetype": "text/x-python",
   "name": "python",
   "nbconvert_exporter": "python",
   "pygments_lexer": "ipython3",
   "version": "3.13.0"
  }
 },
 "nbformat": 4,
 "nbformat_minor": 2
}
